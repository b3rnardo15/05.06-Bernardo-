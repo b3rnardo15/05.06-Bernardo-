{
 "cells": [
  {
   "cell_type": "code",
   "execution_count": 9,
   "metadata": {},
   "outputs": [
    {
     "name": "stdout",
     "output_type": "stream",
     "text": [
      "Número  1\n",
      "Número  2\n",
      "Número  3\n",
      "Número  4\n",
      "Número  5\n"
     ]
    }
   ],
   "source": [
    "def funcaoLeitura ():\n",
    "    for num in [1,2,3,4,5]:\n",
    "        print(\"Número \",num)\n",
    "\n",
    "\n",
    "funcaoLeitura()"
   ]
  },
  {
   "cell_type": "code",
   "execution_count": 7,
   "metadata": {},
   "outputs": [
    {
     "name": "stdout",
     "output_type": "stream",
     "text": [
      "Número  0\n",
      "Número  1\n",
      "Número  2\n",
      "Número  3\n",
      "Número  4\n"
     ]
    }
   ],
   "source": [
    "def funcaoLeitura():\n",
    "    for i in range (5):\n",
    "        print(\"Número \",i)\n",
    "\n",
    "\n",
    "funcaoLeitura()"
   ]
  },
  {
   "cell_type": "code",
   "execution_count": 7,
   "metadata": {},
   "outputs": [
    {
     "name": "stdout",
     "output_type": "stream",
     "text": [
      "O primeiro número é:  2\n",
      "O segundo número é:  3\n",
      "A soma número é:  5\n",
      "O primeiro número é:  4\n",
      "O segundo número é:  3\n",
      "A soma número é:  7\n"
     ]
    }
   ],
   "source": [
    "#Função para somar dois numeros \n",
    "def addNum(n1, n2):\n",
    "    print(\"O primeiro número é: \", n1)\n",
    "    print(\"O segundo número é: \", n2)\n",
    "    print(\"A soma número é: \", n1+n2)\n",
    "\n",
    "\n",
    "addNum(2,3)\n",
    "addNum(4,3)\n",
    "\n",
    "\n"
   ]
  },
  {
   "cell_type": "code",
   "execution_count": 11,
   "metadata": {},
   "outputs": [
    {
     "name": "stdout",
     "output_type": "stream",
     "text": [
      "Variável da função Multiplica:  20\n",
      "10\n"
     ]
    }
   ],
   "source": [
    "varGlobal = 10 #essa é uma variável global\n",
    "def multiplicacao (num1, num2):\n",
    "    varGlobal = (num1 * num2) #essa é uma variável local\n",
    "    print(\"Variável da função Multiplica: \",varGlobal)\n",
    "\n",
    "\n",
    "multiplicacao(5,4)\n",
    "print(varGlobal)"
   ]
  },
  {
   "cell_type": "code",
   "execution_count": 14,
   "metadata": {},
   "outputs": [
    {
     "data": {
      "text/plain": [
       "['Cibele', 'Maria', 'Suely']"
      ]
     },
     "execution_count": 14,
     "metadata": {},
     "output_type": "execute_result"
    }
   ],
   "source": [
    "def separarTexto(texto):\n",
    "    return texto.split()\n",
    "\n",
    "separarTexto(\"Cibele Maria Suely\")\n"
   ]
  },
  {
   "cell_type": "code",
   "execution_count": 20,
   "metadata": {},
   "outputs": [
    {
     "name": "stdout",
     "output_type": "stream",
     "text": [
      "Parâmetro 0 Bernardo\n",
      "Parâmetro 1 Romario\n",
      "Parâmetro 2 Tyler\n"
     ]
    }
   ],
   "source": [
    "#quando não sabemos a quantidades dos parametros basta usar o *\n",
    "def variosParametros (*parametros):\n",
    "    for n, item in enumerate(parametros):\n",
    "        print(\"Parâmetro\", n, item)\n",
    "    return\n",
    "\n",
    "variosParametros('Bernardo','Romario','Tyler')\n",
    "\n"
   ]
  },
  {
   "cell_type": "code",
   "execution_count": 49,
   "metadata": {},
   "outputs": [
    {
     "name": "stdout",
     "output_type": "stream",
     "text": [
      "+-----------------------+\n",
      "|  MENU DE OPERAÇÕES |\n",
      "+-----------------------+\n",
      "| 1 - somar           |\n",
      "| 2 - subtrair        |\n",
      "| 3 - multiplicar     |\n",
      "| 4 - dividir         |\n",
      "| 0 - sair            |\n",
      "+-----------------------+\n",
      "\n",
      "O resultado da divisão é:   5.0\n",
      "+-----------------------+\n",
      "|  MENU DE OPERAÇÕES |\n",
      "+-----------------------+\n",
      "| 1 - somar           |\n",
      "| 2 - subtrair        |\n",
      "| 3 - multiplicar     |\n",
      "| 4 - dividir         |\n",
      "| 0 - sair            |\n",
      "+-----------------------+\n"
     ]
    }
   ],
   "source": [
    "#calculadora \n",
    "\n",
    "def soma(n1,n2):\n",
    "    return n1+n2\n",
    "\n",
    "def subtrai (n1,n2):\n",
    "    return n1-n2\n",
    "\n",
    "def multiplica(n1,n2):\n",
    "    return n1*n2\n",
    "\n",
    "def divide(n1,n2):\n",
    "    if n2 == 0:\n",
    "        raise ValueError(\"Não é possível dividir por zero\")\n",
    "    return n1/n2\n",
    "\n",
    "\n",
    "while True: \n",
    "    print(\"+-\" + \"-\" * 21 + \"-+\")\n",
    "    print(\"|  MENU DE OPERAÇÕES |\")\n",
    "    print(\"+-\" + \"-\" * 21 + \"-+\")\n",
    "    print(\"| 1 - somar           |\")\n",
    "    print(\"| 2 - subtrair        |\")\n",
    "    print(\"| 3 - multiplicar     |\")\n",
    "    print(\"| 4 - dividir         |\")\n",
    "    print(\"| 0 - sair            |\")\n",
    "    print(\"+-\" + \"-\" * 21 + \"-+\") \n",
    "\n",
    "\n",
    "\n",
    "    op = int(input(\"Insira o número das operações desejadas.\"))\n",
    "    if op == 0:\n",
    "        break\n",
    "\n",
    "    n1 = int (input(\"Primeiro número:  \"))\n",
    "    n2 = int (input(\"Segundo número:  \"))\n",
    "      \n",
    "\n",
    " \n",
    "\n",
    "    if op==1:\n",
    "        print(\"\\nO resultado da soma é:  \", soma(n1,n2))\n",
    "    elif op==2:\n",
    "        print(\"\\nO resultado da subtração é:  \", subtrai(n1,n2))\n",
    "    elif op==3:\n",
    "        print(\"\\nO resultado da multiplicação é:  \", multiplica(n1,n2))\n",
    "    elif op==4:\n",
    "        try:\n",
    "            resultado = divide(n1, n2)\n",
    "            print(\"\\nO resultado da divisão é:  \", divide(n1,n2))\n",
    "        except ValueError as e:\n",
    "            print(\"\\n\", e)\n",
    "            break\n",
    "       \n",
    "\n",
    "    else:\n",
    "        print(\"\\nPor favor, digite uma das opções.\")\n",
    "        break\n",
    "\n",
    "\n",
    "\n"
   ]
  }
 ],
 "metadata": {
  "kernelspec": {
   "display_name": "Python 3",
   "language": "python",
   "name": "python3"
  },
  "language_info": {
   "codemirror_mode": {
    "name": "ipython",
    "version": 3
   },
   "file_extension": ".py",
   "mimetype": "text/x-python",
   "name": "python",
   "nbconvert_exporter": "python",
   "pygments_lexer": "ipython3",
   "version": "3.11.9"
  }
 },
 "nbformat": 4,
 "nbformat_minor": 2
}
